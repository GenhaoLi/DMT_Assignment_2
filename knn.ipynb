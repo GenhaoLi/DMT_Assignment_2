{
 "cells": [
  {
   "metadata": {},
   "cell_type": "code",
   "outputs": [],
   "execution_count": null,
   "source": [
    "import pandas as pd\n",
    "import numpy as np\n",
    "from tqdm import tqdm"
   ],
   "id": "addbebaf29df355a"
  },
  {
   "metadata": {},
   "cell_type": "code",
   "outputs": [],
   "execution_count": null,
   "source": "all_data = pd.read_parquet(\"train_cleaned.parquet\")",
   "id": "b0b6ebd878686d5b"
  },
  {
   "metadata": {},
   "cell_type": "markdown",
   "source": "Split the data into train and test sets based on search sessions.",
   "id": "ae6503316a79eeb2"
  },
  {
   "metadata": {},
   "cell_type": "code",
   "outputs": [],
   "execution_count": null,
   "source": [
    "from scipy.sparse import csr_matrix\n",
    "# Implicit rating (booking is stronger than click)\n",
    "all_data['interaction'] = all_data['click_bool'] + all_data['booking_bool'] * 5\n",
    "\n",
    "# Encode srch_id and prop_id to 0-based indexes for matrix rows/cols\n",
    "user_ids = all_data['srch_id'].astype(\"category\").cat.codes\n",
    "item_ids = all_data['prop_id'].astype(\"category\").cat.codes\n",
    "\n",
    "all_data['user_index'] = user_ids\n",
    "all_data['item_index'] = item_ids\n",
    "\n",
    "# Build sparse matrix\n",
    "interaction_matrix = csr_matrix((all_data['interaction'], (all_data['user_index'], all_data['item_index'])))"
   ],
   "id": "1fdb8a616734f92d"
  },
  {
   "metadata": {},
   "cell_type": "code",
   "outputs": [],
   "execution_count": null,
   "source": [
    "from sklearn.model_selection import train_test_split\n",
    "\n",
    "unique_users = all_data['user_index'].unique()\n",
    "train_users, test_users = train_test_split(unique_users, test_size=0.2, random_state=42)\n",
    "\n",
    "train_mask = all_data['user_index'].isin(train_users)\n",
    "test_mask = all_data['user_index'].isin(test_users)\n",
    "\n",
    "train_data = all_data[train_mask]\n",
    "test_data = all_data[test_mask]\n",
    "\n",
    "train_matrix = csr_matrix((train_data['interaction'], (train_data['user_index'], train_data['item_index'])))\n",
    "test_matrix = csr_matrix((test_data['interaction'], (test_data['user_index'], test_data['item_index'])))"
   ],
   "id": "d4b80752c3586049"
  },
  {
   "metadata": {},
   "cell_type": "code",
   "outputs": [],
   "execution_count": null,
   "source": [
    "from sklearn.neighbors import NearestNeighbors\n",
    "\n",
    "knn = NearestNeighbors(metric='cosine', algorithm='brute', n_neighbors=10, n_jobs=-1)\n",
    "knn.fit(train_matrix)\n"
   ],
   "id": "1f77d30e34a5b6d1"
  },
  {
   "metadata": {},
   "cell_type": "code",
   "outputs": [],
   "execution_count": null,
   "source": [
    "# 6. Define NDCG@5 function\n",
    "def ndcg_at_k(recommended, relevant, k=5):\n",
    "    dcg = 0.0\n",
    "    for i, item in enumerate(recommended[:k]):\n",
    "        if item in relevant:\n",
    "            dcg += 1 / np.log2(i + 2)\n",
    "    idcg = sum(1 / np.log2(i + 2) for i in range(min(len(relevant), k)))\n",
    "    return dcg / idcg if idcg > 0 else 0.0\n",
    "\n",
    "# 7. Predict top items for test users\n",
    "test_user_indices = test_data['user_index'].unique()\n",
    "\n",
    "def compute_ndcg(user_idx):\n",
    "    if test_matrix[user_idx].nnz == 0:\n",
    "        return None  # skip users with no test data\n",
    "\n",
    "    user_vector = test_matrix[user_idx]\n",
    "    distances, neighbor_idxs = knn.kneighbors(user_vector, return_distance=True)\n",
    "    neighbor_vectors = train_matrix[neighbor_idxs.flatten()]\n",
    "    scores = neighbor_vectors.sum(axis=0)\n",
    "\n",
    "    seen_items = test_matrix[user_idx].nonzero()[1]\n",
    "    scores[0, seen_items] = 0\n",
    "\n",
    "    recommended_items = np.argsort(scores.A1)[::-1][:5]\n",
    "\n",
    "    relevant_items = test_data[test_data['user_index'] == user_idx]\n",
    "    relevant_items = relevant_items[relevant_items['interaction'] > 0]['item_index'].values\n",
    "\n",
    "    return ndcg_at_k(recommended_items, relevant_items, k=5)"
   ],
   "id": "1404f23203b65e53"
  },
  {
   "metadata": {},
   "cell_type": "code",
   "outputs": [],
   "execution_count": null,
   "source": [
    "from joblib import Parallel, delayed\n",
    "# Run in parallel\n",
    "results = Parallel(n_jobs=-1, backend='loky')(  # n_jobs=-1 uses all cores\n",
    "    delayed(compute_ndcg)(user_idx) for user_idx in tqdm(test_user_indices)\n",
    ")\n",
    "\n",
    "# Filter out skipped users\n",
    "ndcg_scores = [score for score in results if score is not None]"
   ],
   "id": "3e571b70bc3b64d5"
  },
  {
   "metadata": {},
   "cell_type": "code",
   "outputs": [],
   "execution_count": null,
   "source": [
    "# check how many scores are not 0 or None\n",
    "for score in ndcg_scores:\n",
    "    if score != 0 and score is not None:\n",
    "        print(score)\n"
   ],
   "id": "1c9051971f6ff823"
  },
  {
   "metadata": {},
   "cell_type": "code",
   "outputs": [],
   "execution_count": null,
   "source": "",
   "id": "a3ca745514b2357f"
  }
 ],
 "metadata": {},
 "nbformat": 5,
 "nbformat_minor": 9
}

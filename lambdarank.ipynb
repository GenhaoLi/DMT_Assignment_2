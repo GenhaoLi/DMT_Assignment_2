{
 "cells": [
  {
   "cell_type": "code",
   "id": "18cc7ceedd2ca798",
   "metadata": {
    "ExecuteTime": {
     "end_time": "2025-05-25T20:14:42.168474Z",
     "start_time": "2025-05-25T20:14:41.166618Z"
    }
   },
   "source": [
    "import pandas as pd\n",
    "import numpy as np\n",
    "import lightgbm as lgb\n",
    "from sklearn.model_selection import train_test_split\n",
    "from sklearn.metrics import ndcg_score"
   ],
   "outputs": [],
   "execution_count": 5
  },
  {
   "metadata": {
    "ExecuteTime": {
     "end_time": "2025-05-25T20:14:44.779874Z",
     "start_time": "2025-05-25T20:14:44.013338Z"
    }
   },
   "cell_type": "code",
   "source": "all_data = pd.read_parquet(\"data/train_cleaned.parquet\")",
   "id": "8408f53e0c97b626",
   "outputs": [],
   "execution_count": 6
  },
  {
   "metadata": {
    "ExecuteTime": {
     "end_time": "2025-05-25T20:15:05.883099Z",
     "start_time": "2025-05-25T20:15:05.802421Z"
    }
   },
   "cell_type": "code",
   "source": [
    "# Step 1: Construct ranking label (5 for booking, 1 for click, 0 otherwise)\n",
    "all_data['label'] = 5 * all_data['booking_bool'] + (1 - all_data['booking_bool']) * all_data['click_bool']"
   ],
   "id": "85dbe90dc61e82cc",
   "outputs": [],
   "execution_count": 7
  },
  {
   "metadata": {
    "ExecuteTime": {
     "end_time": "2025-05-25T20:15:17.378253Z",
     "start_time": "2025-05-25T20:15:17.373425Z"
    }
   },
   "cell_type": "code",
   "source": [
    "\n",
    "# Step 2: Choose features to use (exclude label, IDs, and target leakage like position)\n",
    "drop_cols = [\n",
    "    'date_time', 'click_bool', 'booking_bool', 'gross_bookings_usd',\n",
    "    'label', 'position'  # 'position' only available in training set; not available in test\n",
    "]\n",
    "feature_cols = [col for col in all_data.columns if col not in drop_cols]"
   ],
   "id": "9f2676ca44b671fb",
   "outputs": [],
   "execution_count": 8
  },
  {
   "metadata": {
    "ExecuteTime": {
     "end_time": "2025-05-25T20:15:55.647407Z",
     "start_time": "2025-05-25T20:15:54.181860Z"
    }
   },
   "cell_type": "code",
   "source": [
    "\n",
    "# Step 3: Train/validation split by srch_id to preserve group integrity\n",
    "unique_srch_ids = all_data['srch_id'].unique()\n",
    "train_ids, valid_ids = train_test_split(unique_srch_ids, test_size=0.2, random_state=42)\n",
    "\n",
    "train_data = all_data[all_data['srch_id'].isin(train_ids)]\n",
    "valid_data = all_data[all_data['srch_id'].isin(valid_ids)]\n",
    "\n",
    "X_train = train_data[feature_cols]\n",
    "y_train = train_data['label']\n",
    "group_train = train_data.groupby('srch_id').size().values\n",
    "\n",
    "X_valid = valid_data[feature_cols]\n",
    "y_valid = valid_data['label']\n",
    "group_valid = valid_data.groupby('srch_id').size().values"
   ],
   "id": "d4f3c2f9e43cfa53",
   "outputs": [],
   "execution_count": 9
  },
  {
   "metadata": {
    "ExecuteTime": {
     "end_time": "2025-05-25T20:16:02.791584Z",
     "start_time": "2025-05-25T20:16:02.788540Z"
    }
   },
   "cell_type": "code",
   "source": [
    "\n",
    "# Step 4: LightGBM dataset formatting\n",
    "lgb_train = lgb.Dataset(X_train, label=y_train, group=group_train)\n",
    "lgb_valid = lgb.Dataset(X_valid, label=y_valid, group=group_valid, reference=lgb_train)"
   ],
   "id": "7210556e0fb1c73b",
   "outputs": [],
   "execution_count": 10
  },
  {
   "metadata": {
    "ExecuteTime": {
     "end_time": "2025-05-25T20:46:30.930074Z",
     "start_time": "2025-05-25T20:46:17.326943Z"
    }
   },
   "cell_type": "code",
   "source": [
    "# Step 5: Set parameters for LambdaMART\n",
    "params = {\n",
    "    'objective': 'lambdarank',\n",
    "    'metric': 'ndcg',\n",
    "    'ndcg_eval_at': [5],\n",
    "    'learning_rate': 0.1,\n",
    "    'num_leaves': 31,\n",
    "    'min_data_in_leaf': 20,\n",
    "    'verbosity': -1\n",
    "}\n",
    "\n",
    "# Step 6: Train model\n",
    "model = lgb.train(\n",
    "    params,\n",
    "    lgb_train,\n",
    "    valid_sets=[lgb_valid],\n",
    "    num_boost_round=200,\n",
    "    callbacks=[\n",
    "        lgb.early_stopping(stopping_rounds=10, verbose=True),\n",
    "        lgb.log_evaluation(period=10)\n",
    "    ],\n",
    ")"
   ],
   "id": "c0fd4f5eb45942b6",
   "outputs": [
    {
     "name": "stdout",
     "output_type": "stream",
     "text": [
      "Training until validation scores don't improve for 10 rounds\n",
      "[10]\tvalid_0's ndcg@5: 0.352032\n",
      "[20]\tvalid_0's ndcg@5: 0.360225\n",
      "[30]\tvalid_0's ndcg@5: 0.365261\n",
      "[40]\tvalid_0's ndcg@5: 0.368089\n",
      "[50]\tvalid_0's ndcg@5: 0.370143\n",
      "[60]\tvalid_0's ndcg@5: 0.371919\n",
      "[70]\tvalid_0's ndcg@5: 0.37285\n",
      "[80]\tvalid_0's ndcg@5: 0.374035\n",
      "[90]\tvalid_0's ndcg@5: 0.374728\n",
      "[100]\tvalid_0's ndcg@5: 0.376276\n",
      "[110]\tvalid_0's ndcg@5: 0.376743\n",
      "Early stopping, best iteration is:\n",
      "[105]\tvalid_0's ndcg@5: 0.377084\n"
     ]
    }
   ],
   "execution_count": 28
  },
  {
   "metadata": {
    "ExecuteTime": {
     "end_time": "2025-05-25T20:46:32.489890Z",
     "start_time": "2025-05-25T20:46:30.933306Z"
    }
   },
   "cell_type": "code",
   "source": [
    "\n",
    "# Step 7: Predict on validation set and compute NDCG@5\n",
    "valid_preds = model.predict(X_valid)\n",
    "valid_data = valid_data.copy()\n",
    "valid_data['pred'] = valid_preds"
   ],
   "id": "fb8448692c9b1234",
   "outputs": [],
   "execution_count": 29
  },
  {
   "metadata": {
    "collapsed": true,
    "ExecuteTime": {
     "end_time": "2025-05-25T20:46:39.223058Z",
     "start_time": "2025-05-25T20:46:32.512257Z"
    }
   },
   "cell_type": "code",
   "source": [
    "\n",
    "# Step 8: Compute average NDCG@5 across queries\n",
    "ndcg_scores = []\n",
    "for srch_id, group in valid_data.groupby('srch_id'):\n",
    "    if len(group) < 5:\n",
    "        continue\n",
    "    true_labels = group['label'].values\n",
    "    preds = group['pred'].values\n",
    "    score = ndcg_score([true_labels], [preds], k=5)\n",
    "    ndcg_scores.append(score)\n",
    "\n",
    "average_ndcg_5 = np.mean(ndcg_scores)\n",
    "print(f\"\\nValidation NDCG@5: {average_ndcg_5:.4f}\")\n"
   ],
   "id": "initial_id",
   "outputs": [
    {
     "name": "stdout",
     "output_type": "stream",
     "text": [
      "\n",
      "Validation NDCG@5: 0.3776\n"
     ]
    }
   ],
   "execution_count": 30
  },
  {
   "metadata": {},
   "cell_type": "markdown",
   "source": "Generate predictions for the test set, to be submitted to Kaggle.",
   "id": "b4e78a6e5b38ecd"
  },
  {
   "metadata": {
    "ExecuteTime": {
     "end_time": "2025-05-25T20:46:39.904228Z",
     "start_time": "2025-05-25T20:46:39.292390Z"
    }
   },
   "cell_type": "code",
   "source": "test_data = pd.read_parquet(\"data/test_cleaned.parquet\")",
   "id": "81768a8b420293d",
   "outputs": [],
   "execution_count": 31
  },
  {
   "metadata": {
    "ExecuteTime": {
     "end_time": "2025-05-25T20:46:39.932959Z",
     "start_time": "2025-05-25T20:46:39.929984Z"
    }
   },
   "cell_type": "code",
   "source": "len(test_data)",
   "id": "dfb8cc4b9fd016fa",
   "outputs": [
    {
     "data": {
      "text/plain": [
       "4959183"
      ]
     },
     "execution_count": 32,
     "metadata": {},
     "output_type": "execute_result"
    }
   ],
   "execution_count": 32
  },
  {
   "metadata": {
    "ExecuteTime": {
     "end_time": "2025-05-25T20:46:53.998408Z",
     "start_time": "2025-05-25T20:46:39.955352Z"
    }
   },
   "cell_type": "code",
   "source": [
    "# Step 1: Prepare test features\n",
    "X_test = test_data[feature_cols]  # use same feature list from training\n",
    "\n",
    "# Step 2: Predict scores\n",
    "test_data = test_data.copy()  # to avoid SettingWithCopyWarning\n",
    "test_data['pred'] = model.predict(X_test, num_iteration=model.best_iteration)\n",
    "\n",
    "# Step 3: Sort predictions per search\n",
    "submission = (\n",
    "    test_data\n",
    "    .sort_values(by=['srch_id', 'pred'], ascending=[True, False])\n",
    "    [['srch_id', 'prop_id']]\n",
    ")\n",
    "\n",
    "# Step 4: Save submission file\n",
    "submission.to_csv(\"data/submission.csv\", index=False)"
   ],
   "id": "9b14cc010950563a",
   "outputs": [],
   "execution_count": 33
  },
  {
   "metadata": {
    "ExecuteTime": {
     "end_time": "2025-05-25T20:46:54.401712Z",
     "start_time": "2025-05-25T20:46:54.028537Z"
    }
   },
   "cell_type": "code",
   "source": "submission = pd.read_csv(\"data/submission.csv\")",
   "id": "6356545f19990fb3",
   "outputs": [],
   "execution_count": 34
  },
  {
   "metadata": {
    "ExecuteTime": {
     "end_time": "2025-05-25T20:46:54.431644Z",
     "start_time": "2025-05-25T20:46:54.428951Z"
    }
   },
   "cell_type": "code",
   "source": "len(submission)",
   "id": "5f8e046f0d6a5a24",
   "outputs": [
    {
     "data": {
      "text/plain": [
       "4959183"
      ]
     },
     "execution_count": 35,
     "metadata": {},
     "output_type": "execute_result"
    }
   ],
   "execution_count": 35
  }
 ],
 "metadata": {
  "kernelspec": {
   "display_name": "Python 3",
   "language": "python",
   "name": "python3"
  },
  "language_info": {
   "codemirror_mode": {
    "name": "ipython",
    "version": 2
   },
   "file_extension": ".py",
   "mimetype": "text/x-python",
   "name": "python",
   "nbconvert_exporter": "python",
   "pygments_lexer": "ipython2",
   "version": "2.7.6"
  }
 },
 "nbformat": 4,
 "nbformat_minor": 5
}
